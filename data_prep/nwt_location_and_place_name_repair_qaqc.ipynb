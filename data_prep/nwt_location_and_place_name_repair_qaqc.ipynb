{
 "cells": [
  {
   "cell_type": "markdown",
   "id": "507298e8",
   "metadata": {},
   "source": [
    "# Repairing geographic locations, place names, and extracted data for the NWT Climate Explorer.\n",
    "\n",
    "## Issue\n",
    "The location of Inuvik, NWT was found to be incorrect by about ten degrees of longitude. A closer examination of all point locations used by the web tool found that many of the geographic coordinates were in need of refinement and that some place names needed to be updated.\n",
    "\n",
    "## Fix\n",
    "A revised spreadsheet of NWT geographic locations was produced (see https://github.com/ua-snap/geospatial-vector-veracity/blob/main/vector_data/point/nwt_point_locations.csv) and used to re-extract downscaled data for each location.\n",
    "\n",
    "## Validation\n",
    "This notebook will compare the existing data to the newly extracted data and check for data model integrity and for qualitative similarity.\n",
    "\n",
    "### Usage note\n",
    "This notebook switches branches so it should probably be used outside the repo itself. Just `cd` in to the repo."
   ]
  },
  {
   "cell_type": "code",
   "execution_count": 1,
   "id": "2a04cb72",
   "metadata": {},
   "outputs": [
    {
     "data": {
      "text/plain": [
       "'/Users/cparr/workspace/tmp'"
      ]
     },
     "execution_count": 1,
     "metadata": {},
     "output_type": "execute_result"
    }
   ],
   "source": [
    "pwd"
   ]
  },
  {
   "cell_type": "code",
   "execution_count": 2,
   "id": "f8742b37",
   "metadata": {},
   "outputs": [
    {
     "name": "stdout",
     "output_type": "stream",
     "text": [
      "/Users/cparr/workspace/repos/nwt-dash-app/data_prep\n"
     ]
    }
   ],
   "source": [
    "cd '../repos/nwt-dash-app/data_prep'"
   ]
  },
  {
   "cell_type": "code",
   "execution_count": 3,
   "id": "087e094b",
   "metadata": {},
   "outputs": [],
   "source": [
    "import subprocess\n",
    "import pandas as pd\n",
    "import numpy as np\n",
    "import matplotlib.pyplot as plt\n",
    "from collections import defaultdict\n",
    "from glob import glob"
   ]
  },
  {
   "cell_type": "markdown",
   "id": "80b5f804",
   "metadata": {},
   "source": [
    "The previously extracted CSV files (incorrect for Inuvik) are still on branch `master` while the freshly extracted data is on branch `inuvik-rextraction` (forgive the missing 'e'). I want to pull both sets of CSV files and compare them. I'll use the `subprocess` module to checkout the different git branches. This is probably not advisable and should only be used if both branches have clean working trees (no changes, nothing staged, etc.). Using git in the notebook is confusing (but fun!) because it is sensitive to the state of the git repository as it was left in the terminal. Only two branches are relevant here so I can be agnostic regarding which branch this \"starts\" on. This technique will also hang up if this notebook is being tracked in git because it will see the modifications and yell at you about performing a `checkout`. The recommendation is to use the notebook outside the repo and then chuck it back in when you are ready to commit."
   ]
  },
  {
   "cell_type": "code",
   "execution_count": 4,
   "id": "26025725",
   "metadata": {},
   "outputs": [],
   "source": [
    "di_branches = defaultdict()\n",
    "di_branches['master'] = 'inuvik-rextraction'\n",
    "di_branches['inuvik-rextraction'] = 'master'\n",
    "\n",
    "def which_branch():\n",
    "    proc_branch = subprocess.Popen([\"git\", \"branch\"], stdout=subprocess.PIPE, universal_newlines=True)\n",
    "    out_branch = proc_branch.communicate()[0].splitlines()\n",
    "    current_branch = [x for x in out_branch if x[0] == '*'][0].split(' ')[-1]\n",
    "    return current_branch\n",
    "\n",
    "def switch_branch(di_branches):\n",
    "    checkout = subprocess.Popen([\"git\", \"checkout\", di_branches[which_branch()]],\n",
    "                                stdout=subprocess.PIPE,\n",
    "                                universal_newlines=True)"
   ]
  },
  {
   "cell_type": "code",
   "execution_count": 5,
   "id": "d19ac2e9",
   "metadata": {},
   "outputs": [
    {
     "data": {
      "text/plain": [
       "'master'"
      ]
     },
     "execution_count": 5,
     "metadata": {},
     "output_type": "execute_result"
    }
   ],
   "source": [
    "which_branch()"
   ]
  },
  {
   "cell_type": "code",
   "execution_count": 6,
   "id": "ad3f8be9",
   "metadata": {},
   "outputs": [],
   "source": [
    "scenarios = ['historical', 'rcp45', 'rcp60', 'rcp85']\n",
    "\n",
    "di_csv = defaultdict()\n",
    "\n",
    "def qa_prep():\n",
    "    di_csv[which_branch()] = {}\n",
    "    for sc in scenarios:\n",
    "        di_csv[which_branch()][sc] = {}\n",
    "        df = pd.read_csv(glob('../data/*' + sc + '*.csv')[0])\n",
    "        di_csv[which_branch()][sc]['csv'] = df\n",
    "        di_csv[which_branch()][sc]['shape'] = df.shape\n",
    "        di_csv[which_branch()][sc]['models'] = sorted(list(df.model.unique()))\n",
    "        di_csv[which_branch()][sc]['years'] = sorted(list(df.model.unique()))\n",
    "        di_csv[which_branch()][sc]['place_names'] = sorted(list(df.community.unique()))\n",
    "\n",
    "qa_prep()"
   ]
  },
  {
   "cell_type": "code",
   "execution_count": 7,
   "id": "8bd41b05",
   "metadata": {},
   "outputs": [],
   "source": [
    "switch_branch(di_branches)"
   ]
  },
  {
   "cell_type": "code",
   "execution_count": 8,
   "id": "76a52d33",
   "metadata": {},
   "outputs": [
    {
     "data": {
      "text/plain": [
       "'inuvik-rextraction'"
      ]
     },
     "execution_count": 8,
     "metadata": {},
     "output_type": "execute_result"
    }
   ],
   "source": [
    "which_branch()"
   ]
  },
  {
   "cell_type": "code",
   "execution_count": 9,
   "id": "0c180dba",
   "metadata": {},
   "outputs": [],
   "source": [
    "qa_prep()"
   ]
  },
  {
   "cell_type": "markdown",
   "id": "c7a788a8",
   "metadata": {},
   "source": [
    "A dictionary is now populated with the old and new CSV files. Both sets of data are extracted from the same source, so the expectation is that the models and time ranges did not change across extractions. Each scenario is contained within a single CSV file (only 8 CSVs total) so a quick check of the models and years between each scenario pair will suffice."
   ]
  },
  {
   "cell_type": "code",
   "execution_count": 10,
   "id": "c60e4c39",
   "metadata": {},
   "outputs": [
    {
     "name": "stdout",
     "output_type": "stream",
     "text": [
      "Checking historical... Models identical? True. Years Identical? True.\n",
      "Checking rcp45... Models identical? True. Years Identical? True.\n",
      "Checking rcp60... Models identical? True. Years Identical? True.\n",
      "Checking rcp85... Models identical? True. Years Identical? True.\n"
     ]
    }
   ],
   "source": [
    "for sc in scenarios:\n",
    "    model_check = di_csv['master'][sc]['models'] == di_csv['inuvik-rextraction'][sc]['models']  \n",
    "    yr_check = di_csv['master'][sc]['years'] == di_csv['inuvik-rextraction'][sc]['years']\n",
    "    print(\"Checking %s... Models identical? %s. Years Identical? %s.\" % (sc, model_check, yr_check))"
   ]
  },
  {
   "cell_type": "markdown",
   "id": "3a29f04a",
   "metadata": {},
   "source": [
    "However, changes to the place names themselves and the number of extracted locations were made. Specfically, the number of communities was reduced by one in new data extraction because Behchokǫ̀ was previously represented by separate extractions for Behchoko (Rae) and  Behchoko (Edzo). Rae and Edzo were distinct communities, though only located only a few kilometers apart, but are now unified under the name Behchokǫ̀.\n",
    "\n",
    "The point is that we will have different data shapes and sizes (and obviously different community names) between the two sets of data."
   ]
  },
  {
   "cell_type": "code",
   "execution_count": 11,
   "id": "bcfd7d30",
   "metadata": {},
   "outputs": [
    {
     "name": "stdout",
     "output_type": "stream",
     "text": [
      "Dropped Location Names\n",
      "['Behchoko (Edzo)' 'Behchoko (Rae)' 'Daring Lake Research Stn' 'Detah'\n",
      " 'Gameti' \"Lutselk'e\" \"N'Dilo\" 'Nechalacho' 'Pine Point Mine (Tamerlane)'\n",
      " 'Trout Lake' 'Wekweeti' 'Whati']\n",
      "-----------------------------\n",
      "Added Location Names\n",
      "['Behchokǫ̀' 'Daring Lake Research Station' 'Dettah' 'Gamètì' 'Ndilǫ'\n",
      " 'Nechalacho/Thor Lake' 'Pine Point Mine' 'Sambaa K’e' 'Wekweètì' 'Whatì'\n",
      " 'Łutselkʼe']\n",
      "Number Old places: 47\n",
      "Number New places: 46\n"
     ]
    }
   ],
   "source": [
    "old_places_not_in_new = []\n",
    "new_places_not_in_old = []\n",
    "\n",
    "for sc in scenarios:\n",
    "    \n",
    "    old_places = di_csv['master'][sc]['place_names']\n",
    "    new_places = di_csv['inuvik-rextraction'][sc]['place_names']\n",
    "    old_locs_not_in_new = list(set(old_places) - set(new_places))\n",
    "    new_locs_not_in_old = list(set(new_places) - set(old_places))\n",
    "\n",
    "    old_places_not_in_new.append(sorted(old_locs_not_in_new))\n",
    "    new_places_not_in_old.append(sorted(new_locs_not_in_old))\n",
    "\n",
    "print(\"Dropped Location Names\")\n",
    "print(np.unique(old_places_not_in_new))\n",
    "print('-----------------------------')\n",
    "print(\"Added Location Names\")\n",
    "print(np.unique(new_places_not_in_old))\n",
    "\n",
    "print(\"Number Old places: %d\" % len(old_places))\n",
    "print(\"Number New places: %d\" % len(new_places))"
   ]
  },
  {
   "cell_type": "markdown",
   "id": "c70b30af",
   "metadata": {},
   "source": [
    "A reduction in the number of communities by one will reduce the size of each DataFrame by the amount of rows per community for that scenario. We can do quick check on this as well."
   ]
  },
  {
   "cell_type": "code",
   "execution_count": 12,
   "id": "768bf1ab",
   "metadata": {},
   "outputs": [
    {
     "name": "stdout",
     "output_type": "stream",
     "text": [
      "historical\n",
      "Old CSV Shape: (49632, 8)\n",
      "New CSV Shape: (48576, 8)\n",
      "Old - New Shape Difference (Number Rows): 1056\n",
      "Shape Difference Accounted for by reduction of point locations by one: True\n",
      "rcp45\n",
      "Old CSV Shape: (75576, 8)\n",
      "New CSV Shape: (73968, 8)\n",
      "Old - New Shape Difference (Number Rows): 1608\n",
      "Shape Difference Accounted for by reduction of point locations by one: True\n",
      "rcp60\n",
      "Old CSV Shape: (41736, 8)\n",
      "New CSV Shape: (40848, 8)\n",
      "Old - New Shape Difference (Number Rows): 888\n",
      "Shape Difference Accounted for by reduction of point locations by one: True\n",
      "rcp85\n",
      "Old CSV Shape: (64296, 8)\n",
      "New CSV Shape: (62928, 8)\n",
      "Old - New Shape Difference (Number Rows): 1368\n",
      "Shape Difference Accounted for by reduction of point locations by one: True\n"
     ]
    }
   ],
   "source": [
    "for sc in scenarios:\n",
    "    print(sc)\n",
    "    old_shape = di_csv['master'][sc]['shape']\n",
    "    new_shape = di_csv['inuvik-rextraction'][sc]['shape']\n",
    "    row_delta = old_shape[0] - new_shape[0]\n",
    "    print(\"Old CSV Shape:\", old_shape)\n",
    "    print(\"New CSV Shape:\", new_shape)\n",
    "    print(\"Old - New Shape Difference (Number Rows):\", row_delta)\n",
    "    rows_per_location = di_csv['master'][sc]['csv'].query(\"community == 'Inuvik'\").shape[0]\n",
    "    print(\"Shape Difference Accounted for by reduction of point locations by one:\", row_delta == rows_per_location)\n"
   ]
  },
  {
   "cell_type": "markdown",
   "id": "8f9379e7",
   "metadata": {},
   "source": [
    "I am satisfied that the data is essentially intact between the two extractions. The same time ranges, models, and scenarios are all accounted for. The changes in the communities are expected. Now I'll do a brief qualitative examination to look at Inuvik because it was known to be incorrect. Other examinations like this are probably better left to the app itself."
   ]
  },
  {
   "cell_type": "code",
   "execution_count": 13,
   "id": "e7c1f535",
   "metadata": {},
   "outputs": [
    {
     "data": {
      "text/plain": [
       "Text(0, 0.5, 'temp (RCP 8.5)')"
      ]
     },
     "execution_count": 13,
     "metadata": {},
     "output_type": "execute_result"
    },
    {
     "data": {
      "image/png": "[encoded data removed]",
      "text/plain": [
       "<Figure size 576x360 with 1 Axes>"
      ]
     },
     "metadata": {
      "needs_background": "light"
     },
     "output_type": "display_data"
    }
   ],
   "source": [
    "plt.figure(figsize=(8, 5))\n",
    "old_inuvik = di_csv['master']['rcp85']['csv'].query(\"model == '5ModelAvg' and community == 'Inuvik'\")\n",
    "new_inuvik = di_csv['inuvik-rextraction']['rcp85']['csv'].query(\"model == '5ModelAvg' and community == 'Inuvik'\")\n",
    "\n",
    "plt.plot(new_inuvik[['year', 'tas']].groupby('year').mean(), label='NEW')\n",
    "plt.plot(old_inuvik[['year', 'tas']].groupby('year').mean(), label='OLD')    \n",
    "plt.legend()\n",
    "plt.title('Inuvik')\n",
    "plt.xlabel('Year')\n",
    "plt.ylabel('temp (RCP 8.5)')"
   ]
  },
  {
   "cell_type": "code",
   "execution_count": 14,
   "id": "7aac2a8f",
   "metadata": {},
   "outputs": [
    {
     "data": {
      "text/plain": [
       "Text(0, 0.5, 'precip (RCP 8.5)')"
      ]
     },
     "execution_count": 14,
     "metadata": {},
     "output_type": "execute_result"
    },
    {
     "data": {
      "image/png": "[encoded data removed]",
      "text/plain": [
       "<Figure size 576x360 with 1 Axes>"
      ]
     },
     "metadata": {
      "needs_background": "light"
     },
     "output_type": "display_data"
    }
   ],
   "source": [
    "plt.figure(figsize=(8, 5))\n",
    "old_inuvik = di_csv['master']['rcp85']['csv'].query(\"model == '5ModelAvg' and community == 'Inuvik'\")\n",
    "new_inuvik = di_csv['inuvik-rextraction']['rcp85']['csv'].query(\"model == '5ModelAvg' and community == 'Inuvik'\")\n",
    "\n",
    "plt.plot(new_inuvik[['year', 'pr']].groupby('year').mean(), label='NEW')\n",
    "plt.plot(old_inuvik[['year', 'pr']].groupby('year').mean(), label='OLD')    \n",
    "plt.legend()\n",
    "plt.title('Inuvik')\n",
    "plt.xlabel('Year')\n",
    "plt.ylabel('precip (RCP 8.5)')"
   ]
  },
  {
   "cell_type": "code",
   "execution_count": null,
   "id": "876ef937",
   "metadata": {},
   "outputs": [],
   "source": []
  }
 ],
 "metadata": {
  "kernelspec": {
   "display_name": "Python 3",
   "language": "python",
   "name": "python3"
  },
  "language_info": {
   "codemirror_mode": {
    "name": "ipython",
    "version": 3
   },
   "file_extension": ".py",
   "mimetype": "text/x-python",
   "name": "python",
   "nbconvert_exporter": "python",
   "pygments_lexer": "ipython3",
   "version": "3.6.13"
  }
 },
 "nbformat": 4,
 "nbformat_minor": 5
}
