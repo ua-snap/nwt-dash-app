{
 "cells": [
  {
   "cell_type": "markdown",
   "id": "507298e8",
   "metadata": {},
   "source": [
    "# Repairing geographic locations, place names, and extracted data for the NWT Climate Explorer.\n",
    "\n",
    "## Issue\n",
    "The location of Inuvik, NWT was found to be incorrect by about ten degrees of longitude. A closer examination of all point locations used by the web tool found that many of the geographic coordinates were in need of refinement and that some place names needed to be updated.\n",
    "\n",
    "## Fix\n",
    "A revised spreadsheet of NWT geographic locations was produced (see https://github.com/ua-snap/geospatial-vector-veracity/blob/main/vector_data/point/nwt_point_locations.csv) and used to re-extract downscaled data for each location.\n",
    "\n",
    "## Validation\n",
    "This notebook will compare the existing data to the newly extracted data and check for data model integrity and for qualitative similarity. "
   ]
  },
  {
   "cell_type": "code",
   "execution_count": 1,
   "id": "087e094b",
   "metadata": {},
   "outputs": [],
   "source": [
    "import subprocess\n",
    "import pandas as pd\n",
    "import matplotlib.pyplot as plt\n",
    "from collections import defaultdict\n",
    "from glob import glob"
   ]
  },
  {
   "cell_type": "markdown",
   "id": "80b5f804",
   "metadata": {},
   "source": [
    "The previously extracted CSV files (incorrect for Inuvik) are still on branch `master` while the freshly extracted data is on branch `inuvik-rextraction` (forgive the missing 'e'). I want to pull both sets of CSV files and compare them. I'll use the `subprocess` module to checkout the different git branches. This is probably not advisable and should only be used if both branches are up to date (no changes, nothing staged, etc.) but it is fun to contain this type of thing in a notebook. Using git in the notebook is confusing (but fun!) because it is sensitive to the state of the git repository as it was left in the terminal. Only two branches are relevant here so I can be agnostic regarding which branch this \"starts\" on."
   ]
  },
  {
   "cell_type": "code",
   "execution_count": 1,
   "id": "26025725",
   "metadata": {},
   "outputs": [
    {
     "ename": "NameError",
     "evalue": "name 'defaultdict' is not defined",
     "output_type": "error",
     "traceback": [
      "\u001b[0;31m---------------------------------------------------------------------------\u001b[0m",
      "\u001b[0;31mNameError\u001b[0m                                 Traceback (most recent call last)",
      "\u001b[0;32m<ipython-input-1-ff102dc2165c>\u001b[0m in \u001b[0;36m<module>\u001b[0;34m\u001b[0m\n\u001b[0;32m----> 1\u001b[0;31m \u001b[0mdi_branches\u001b[0m \u001b[0;34m=\u001b[0m \u001b[0mdefaultdict\u001b[0m\u001b[0;34m(\u001b[0m\u001b[0;34m)\u001b[0m\u001b[0;34m\u001b[0m\u001b[0;34m\u001b[0m\u001b[0m\n\u001b[0m\u001b[1;32m      2\u001b[0m \u001b[0mdi_branches\u001b[0m\u001b[0;34m[\u001b[0m\u001b[0;34m'master'\u001b[0m\u001b[0;34m]\u001b[0m \u001b[0;34m=\u001b[0m \u001b[0;34m'inuvik-rextraction'\u001b[0m\u001b[0;34m\u001b[0m\u001b[0;34m\u001b[0m\u001b[0m\n\u001b[1;32m      3\u001b[0m \u001b[0mdi_branches\u001b[0m\u001b[0;34m[\u001b[0m\u001b[0;34m'inuvik-rextraction'\u001b[0m\u001b[0;34m]\u001b[0m \u001b[0;34m=\u001b[0m \u001b[0;34m'master'\u001b[0m\u001b[0;34m\u001b[0m\u001b[0;34m\u001b[0m\u001b[0m\n\u001b[1;32m      4\u001b[0m \u001b[0;34m\u001b[0m\u001b[0m\n\u001b[1;32m      5\u001b[0m \u001b[0;32mdef\u001b[0m \u001b[0mwhich_branch\u001b[0m\u001b[0;34m(\u001b[0m\u001b[0;34m)\u001b[0m\u001b[0;34m:\u001b[0m\u001b[0;34m\u001b[0m\u001b[0;34m\u001b[0m\u001b[0m\n",
      "\u001b[0;31mNameError\u001b[0m: name 'defaultdict' is not defined"
     ]
    }
   ],
   "source": [
    "di_branches = defaultdict()\n",
    "di_branches['master'] = 'inuvik-rextraction'\n",
    "di_branches['inuvik-rextraction'] = 'master'\n",
    "\n",
    "def which_branch():\n",
    "    proc_branch = subprocess.Popen([\"git\", \"branch\"], stdout=subprocess.PIPE, universal_newlines=True)\n",
    "    out_branch = proc_branch.communicate()[0].splitlines()\n",
    "    current_branch = [x for x in out_branch if x[0] == '*'][0].split(' ')[-1]\n",
    "    return current_branch\n",
    "\n",
    "def switch_branch(di_branches):\n",
    "    checkout = subprocess.Popen([\"git\", \"checkout\", di_branches[which_branch()]],\n",
    "                                stdout=subprocess.PIPE,\n",
    "                                universal_newlines=True)"
   ]
  },
  {
   "cell_type": "code",
   "execution_count": 3,
   "id": "ad3f8be9",
   "metadata": {},
   "outputs": [
    {
     "data": {
      "text/plain": [
       "defaultdict(None,\n",
       "            {'master': {'historical': {'csv':        Unnamed: 0  year  month   tas    pr    scenario      model    community\n",
       "               0               0  1850      1 -31.2  13.0  historical  GISS-E2-R      Aklavik\n",
       "               1               1  1850      2 -29.4  12.0  historical  GISS-E2-R      Aklavik\n",
       "               2               2  1850      3 -23.1  10.0  historical  GISS-E2-R      Aklavik\n",
       "               3               3  1850      4 -15.0  10.0  historical  GISS-E2-R      Aklavik\n",
       "               4               4  1850      5  -3.6  15.0  historical  GISS-E2-R      Aklavik\n",
       "               ...           ...   ...    ...   ...   ...         ...        ...          ...\n",
       "               49627        7891  1990      8  13.6  44.0  historical  5ModelAvg  Yellowknife\n",
       "               49628        7892  1990      9   6.5  30.0  historical  5ModelAvg  Yellowknife\n",
       "               49629        7893  1990     10  -1.5  36.0  historical  5ModelAvg  Yellowknife\n",
       "               49630        7894  1990     11 -14.2  25.0  historical  5ModelAvg  Yellowknife\n",
       "               49631        7895  1990     12 -25.4  18.0  historical  5ModelAvg  Yellowknife\n",
       "               \n",
       "               [49632 rows x 8 columns],\n",
       "               'shape': (49632, 8),\n",
       "               'models': ['5ModelAvg',\n",
       "                'GFDL-CM3',\n",
       "                'GISS-E2-R',\n",
       "                'IPSL-CM5A-LR',\n",
       "                'MRI-CGCM3',\n",
       "                'NCAR-CCSM4'],\n",
       "               'years': ['5ModelAvg',\n",
       "                'GFDL-CM3',\n",
       "                'GISS-E2-R',\n",
       "                'IPSL-CM5A-LR',\n",
       "                'MRI-CGCM3',\n",
       "                'NCAR-CCSM4'],\n",
       "               'place_names': ['Aklavik',\n",
       "                'Behchoko (Edzo)',\n",
       "                'Behchoko (Rae)',\n",
       "                'CanTung Mine',\n",
       "                'Colville Lake',\n",
       "                'ConocoPhillips EL470 Base Camp',\n",
       "                'Daring Lake Research Stn',\n",
       "                'Deline',\n",
       "                'Detah',\n",
       "                'Diavik Mine',\n",
       "                'Ekati Mine',\n",
       "                'Enterprise',\n",
       "                'Fort Good Hope',\n",
       "                'Fort Liard',\n",
       "                'Fort McPherson',\n",
       "                'Fort Providence',\n",
       "                'Fort Resolution',\n",
       "                'Fort Simpson',\n",
       "                'Fort Smith',\n",
       "                'Gahcho Kue Mine',\n",
       "                'Gameti',\n",
       "                'Hay River',\n",
       "                'Hay River Reserve',\n",
       "                'Husky Slater River Base Camp',\n",
       "                'Inuvik',\n",
       "                'Jean Marie River',\n",
       "                'Kakisa',\n",
       "                \"Lutselk'e\",\n",
       "                \"N'Dilo\",\n",
       "                'NICO Mine',\n",
       "                'Nahanni Butte',\n",
       "                'Nechalacho',\n",
       "                'Norman Wells',\n",
       "                'Paulatuk',\n",
       "                'Pine Point Mine (Tamerlane)',\n",
       "                'Prairie Creek Mine',\n",
       "                'Sachs Harbour',\n",
       "                'Snap Lake Mine',\n",
       "                'Trout Lake',\n",
       "                'Tsiigehtchic',\n",
       "                'Tuktoyaktuk',\n",
       "                'Tulita',\n",
       "                'Ulukhaktok',\n",
       "                'Wekweeti',\n",
       "                'Whati',\n",
       "                'Wrigley',\n",
       "                'Yellowknife']},\n",
       "              'rcp45': {'csv':        Unnamed: 0  year  month   tas    pr scenario       model    community\n",
       "               0               0  2010      1 -26.4  12.0    rcp45   5ModelAvg      Aklavik\n",
       "               1               1  2010      2 -25.1  10.0    rcp45   5ModelAvg      Aklavik\n",
       "               2               2  2010      3 -19.5  10.0    rcp45   5ModelAvg      Aklavik\n",
       "               3               3  2010      4 -11.4  10.0    rcp45   5ModelAvg      Aklavik\n",
       "               4               4  2010      5  -0.7  12.0    rcp45   5ModelAvg      Aklavik\n",
       "               ...           ...   ...    ...   ...   ...      ...         ...          ...\n",
       "               75571       16351  2290      8  16.2  37.0    rcp45  NCAR-CCSM4  Yellowknife\n",
       "               75572       16352  2290      9   9.7  28.0    rcp45  NCAR-CCSM4  Yellowknife\n",
       "               75573       16353  2290     10   3.5  38.0    rcp45  NCAR-CCSM4  Yellowknife\n",
       "               75574       16354  2290     11  -7.0  31.0    rcp45  NCAR-CCSM4  Yellowknife\n",
       "               75575       16355  2290     12 -18.5  26.0    rcp45  NCAR-CCSM4  Yellowknife\n",
       "               \n",
       "               [75576 rows x 8 columns],\n",
       "               'shape': (75576, 8),\n",
       "               'models': ['5ModelAvg',\n",
       "                'GFDL-CM3',\n",
       "                'GISS-E2-R',\n",
       "                'IPSL-CM5A-LR',\n",
       "                'MRI-CGCM3',\n",
       "                'NCAR-CCSM4'],\n",
       "               'years': ['5ModelAvg',\n",
       "                'GFDL-CM3',\n",
       "                'GISS-E2-R',\n",
       "                'IPSL-CM5A-LR',\n",
       "                'MRI-CGCM3',\n",
       "                'NCAR-CCSM4'],\n",
       "               'place_names': ['Aklavik',\n",
       "                'Behchoko (Edzo)',\n",
       "                'Behchoko (Rae)',\n",
       "                'CanTung Mine',\n",
       "                'Colville Lake',\n",
       "                'ConocoPhillips EL470 Base Camp',\n",
       "                'Daring Lake Research Stn',\n",
       "                'Deline',\n",
       "                'Detah',\n",
       "                'Diavik Mine',\n",
       "                'Ekati Mine',\n",
       "                'Enterprise',\n",
       "                'Fort Good Hope',\n",
       "                'Fort Liard',\n",
       "                'Fort McPherson',\n",
       "                'Fort Providence',\n",
       "                'Fort Resolution',\n",
       "                'Fort Simpson',\n",
       "                'Fort Smith',\n",
       "                'Gahcho Kue Mine',\n",
       "                'Gameti',\n",
       "                'Hay River',\n",
       "                'Hay River Reserve',\n",
       "                'Husky Slater River Base Camp',\n",
       "                'Inuvik',\n",
       "                'Jean Marie River',\n",
       "                'Kakisa',\n",
       "                \"Lutselk'e\",\n",
       "                \"N'Dilo\",\n",
       "                'NICO Mine',\n",
       "                'Nahanni Butte',\n",
       "                'Nechalacho',\n",
       "                'Norman Wells',\n",
       "                'Paulatuk',\n",
       "                'Pine Point Mine (Tamerlane)',\n",
       "                'Prairie Creek Mine',\n",
       "                'Sachs Harbour',\n",
       "                'Snap Lake Mine',\n",
       "                'Trout Lake',\n",
       "                'Tsiigehtchic',\n",
       "                'Tuktoyaktuk',\n",
       "                'Tulita',\n",
       "                'Ulukhaktok',\n",
       "                'Wekweeti',\n",
       "                'Whati',\n",
       "                'Wrigley',\n",
       "                'Yellowknife']},\n",
       "              'rcp60': {'csv':        Unnamed: 0  year  month   tas    pr scenario         model    community\n",
       "               0               0  2010      1 -22.3  16.0    rcp60      GFDL-CM3      Aklavik\n",
       "               1               1  2010      2 -23.7  11.0    rcp60      GFDL-CM3      Aklavik\n",
       "               2               2  2010      3 -17.7   9.0    rcp60      GFDL-CM3      Aklavik\n",
       "               3               3  2010      4 -10.7   9.0    rcp60      GFDL-CM3      Aklavik\n",
       "               4               4  2010      5   0.4  15.0    rcp60      GFDL-CM3      Aklavik\n",
       "               ...           ...   ...    ...   ...   ...      ...           ...          ...\n",
       "               41731        5071  2090      8  18.4  74.0    rcp60  IPSL-CM5A-LR  Yellowknife\n",
       "               41732        5072  2090      9  11.0  27.0    rcp60  IPSL-CM5A-LR  Yellowknife\n",
       "               41733        5073  2090     10   2.2  41.0    rcp60  IPSL-CM5A-LR  Yellowknife\n",
       "               41734        5074  2090     11 -11.3  28.0    rcp60  IPSL-CM5A-LR  Yellowknife\n",
       "               41735        5075  2090     12 -18.7  26.0    rcp60  IPSL-CM5A-LR  Yellowknife\n",
       "               \n",
       "               [41736 rows x 8 columns],\n",
       "               'shape': (41736, 8),\n",
       "               'models': ['5ModelAvg',\n",
       "                'GFDL-CM3',\n",
       "                'GISS-E2-R',\n",
       "                'IPSL-CM5A-LR',\n",
       "                'MRI-CGCM3',\n",
       "                'NCAR-CCSM4'],\n",
       "               'years': ['5ModelAvg',\n",
       "                'GFDL-CM3',\n",
       "                'GISS-E2-R',\n",
       "                'IPSL-CM5A-LR',\n",
       "                'MRI-CGCM3',\n",
       "                'NCAR-CCSM4'],\n",
       "               'place_names': ['Aklavik',\n",
       "                'Behchoko (Edzo)',\n",
       "                'Behchoko (Rae)',\n",
       "                'CanTung Mine',\n",
       "                'Colville Lake',\n",
       "                'ConocoPhillips EL470 Base Camp',\n",
       "                'Daring Lake Research Stn',\n",
       "                'Deline',\n",
       "                'Detah',\n",
       "                'Diavik Mine',\n",
       "                'Ekati Mine',\n",
       "                'Enterprise',\n",
       "                'Fort Good Hope',\n",
       "                'Fort Liard',\n",
       "                'Fort McPherson',\n",
       "                'Fort Providence',\n",
       "                'Fort Resolution',\n",
       "                'Fort Simpson',\n",
       "                'Fort Smith',\n",
       "                'Gahcho Kue Mine',\n",
       "                'Gameti',\n",
       "                'Hay River',\n",
       "                'Hay River Reserve',\n",
       "                'Husky Slater River Base Camp',\n",
       "                'Inuvik',\n",
       "                'Jean Marie River',\n",
       "                'Kakisa',\n",
       "                \"Lutselk'e\",\n",
       "                \"N'Dilo\",\n",
       "                'NICO Mine',\n",
       "                'Nahanni Butte',\n",
       "                'Nechalacho',\n",
       "                'Norman Wells',\n",
       "                'Paulatuk',\n",
       "                'Pine Point Mine (Tamerlane)',\n",
       "                'Prairie Creek Mine',\n",
       "                'Sachs Harbour',\n",
       "                'Snap Lake Mine',\n",
       "                'Trout Lake',\n",
       "                'Tsiigehtchic',\n",
       "                'Tuktoyaktuk',\n",
       "                'Tulita',\n",
       "                'Ulukhaktok',\n",
       "                'Wekweeti',\n",
       "                'Whati',\n",
       "                'Wrigley',\n",
       "                'Yellowknife']},\n",
       "              'rcp85': {'csv':        Unnamed: 0  year  month   tas    pr scenario      model    community\n",
       "               0               0  2010      1 -25.0  14.0    rcp85  MRI-CGCM3      Aklavik\n",
       "               1               1  2010      2 -25.8   8.0    rcp85  MRI-CGCM3      Aklavik\n",
       "               2               2  2010      3 -23.6  15.0    rcp85  MRI-CGCM3      Aklavik\n",
       "               3               3  2010      4 -13.2   9.0    rcp85  MRI-CGCM3      Aklavik\n",
       "               4               4  2010      5  -1.0  12.0    rcp85  MRI-CGCM3      Aklavik\n",
       "               ...           ...   ...    ...   ...   ...      ...        ...          ...\n",
       "               64291        5071  2090      8  22.2  63.0    rcp85   GFDL-CM3  Yellowknife\n",
       "               64292        5072  2090      9  13.9  39.0    rcp85   GFDL-CM3  Yellowknife\n",
       "               64293        5073  2090     10   4.7  50.0    rcp85   GFDL-CM3  Yellowknife\n",
       "               64294        5074  2090     11  -6.9  34.0    rcp85   GFDL-CM3  Yellowknife\n",
       "               64295        5075  2090     12 -13.9  22.0    rcp85   GFDL-CM3  Yellowknife\n",
       "               \n",
       "               [64296 rows x 8 columns],\n",
       "               'shape': (64296, 8),\n",
       "               'models': ['5ModelAvg',\n",
       "                'GFDL-CM3',\n",
       "                'GISS-E2-R',\n",
       "                'IPSL-CM5A-LR',\n",
       "                'MRI-CGCM3',\n",
       "                'NCAR-CCSM4'],\n",
       "               'years': ['5ModelAvg',\n",
       "                'GFDL-CM3',\n",
       "                'GISS-E2-R',\n",
       "                'IPSL-CM5A-LR',\n",
       "                'MRI-CGCM3',\n",
       "                'NCAR-CCSM4'],\n",
       "               'place_names': ['Aklavik',\n",
       "                'Behchoko (Edzo)',\n",
       "                'Behchoko (Rae)',\n",
       "                'CanTung Mine',\n",
       "                'Colville Lake',\n",
       "                'ConocoPhillips EL470 Base Camp',\n",
       "                'Daring Lake Research Stn',\n",
       "                'Deline',\n",
       "                'Detah',\n",
       "                'Diavik Mine',\n",
       "                'Ekati Mine',\n",
       "                'Enterprise',\n",
       "                'Fort Good Hope',\n",
       "                'Fort Liard',\n",
       "                'Fort McPherson',\n",
       "                'Fort Providence',\n",
       "                'Fort Resolution',\n",
       "                'Fort Simpson',\n",
       "                'Fort Smith',\n",
       "                'Gahcho Kue Mine',\n",
       "                'Gameti',\n",
       "                'Hay River',\n",
       "                'Hay River Reserve',\n",
       "                'Husky Slater River Base Camp',\n",
       "                'Inuvik',\n",
       "                'Jean Marie River',\n",
       "                'Kakisa',\n",
       "                \"Lutselk'e\",\n",
       "                \"N'Dilo\",\n",
       "                'NICO Mine',\n",
       "                'Nahanni Butte',\n",
       "                'Nechalacho',\n",
       "                'Norman Wells',\n",
       "                'Paulatuk',\n",
       "                'Pine Point Mine (Tamerlane)',\n",
       "                'Prairie Creek Mine',\n",
       "                'Sachs Harbour',\n",
       "                'Snap Lake Mine',\n",
       "                'Trout Lake',\n",
       "                'Tsiigehtchic',\n",
       "                'Tuktoyaktuk',\n",
       "                'Tulita',\n",
       "                'Ulukhaktok',\n",
       "                'Wekweeti',\n",
       "                'Whati',\n",
       "                'Wrigley',\n",
       "                'Yellowknife']}}})"
      ]
     },
     "execution_count": 3,
     "metadata": {},
     "output_type": "execute_result"
    }
   ],
   "source": [
    "scenarios = ['historical', 'rcp45', 'rcp60', 'rcp85']\n",
    "\n",
    "di_csv = defaultdict()\n",
    "\n",
    "def qa_prep():\n",
    "    di_csv[which_branch()] = {}\n",
    "    for sc in scenarios:\n",
    "        di_csv[which_branch()][sc] = {}\n",
    "        df = pd.read_csv(glob('../data/*' + sc + '*.csv')[0])\n",
    "        di_csv[which_branch()][sc]['csv'] = df\n",
    "        di_csv[which_branch()][sc]['shape'] = df.shape\n",
    "        di_csv[which_branch()][sc]['models'] = sorted(list(df.model.unique()))\n",
    "        di_csv[which_branch()][sc]['years'] = sorted(list(df.model.unique()))\n",
    "        try:\n",
    "            di_csv[which_branch()][sc]['place_names'] = sorted(list(df.community.unique()))\n",
    "        except:\n",
    "            di_csv[which_branch()][sc]['place_names'] = sorted(list(df.name.unique()))\n",
    "qa_prep()    \n",
    "di_csv"
   ]
  },
  {
   "cell_type": "code",
   "execution_count": 4,
   "id": "8bd41b05",
   "metadata": {},
   "outputs": [],
   "source": [
    "switch_branch(di_branches)"
   ]
  },
  {
   "cell_type": "code",
   "execution_count": 5,
   "id": "0c180dba",
   "metadata": {},
   "outputs": [],
   "source": [
    "qa_prep()"
   ]
  },
  {
   "cell_type": "code",
   "execution_count": 6,
   "id": "c60e4c39",
   "metadata": {},
   "outputs": [
    {
     "name": "stdout",
     "output_type": "stream",
     "text": [
      "historical True True\n",
      "rcp45 True True\n",
      "rcp60 True True\n",
      "rcp85 True True\n"
     ]
    }
   ],
   "source": [
    "# Expectation: models and time spans (years) did not change across extractions\n",
    "for sc in scenarios:\n",
    "    model_check = di_csv['master'][sc]['models'] == di_csv['fix-point-locations-and-names'][sc]['models']  \n",
    "    yr_check = di_csv['master'][sc]['years'] == di_csv['fix-point-locations-and-names'][sc]['years']\n",
    "    print(sc, model_check, yr_check)    "
   ]
  },
  {
   "cell_type": "markdown",
   "id": "3a29f04a",
   "metadata": {},
   "source": [
    "However, changes to the place names were made, and the number of communities was reduced by one in freshly extracted data. Bechoko was formerly represented by separate extractions for Rae and Edzo, two former communities that are are only a few miles apart. They are now together...see encyclopedia article."
   ]
  },
  {
   "cell_type": "code",
   "execution_count": 7,
   "id": "bcfd7d30",
   "metadata": {},
   "outputs": [
    {
     "name": "stdout",
     "output_type": "stream",
     "text": [
      "historical\n",
      "['Behchoko (Edzo)', 'Behchoko (Rae)', 'Daring Lake Research Stn', 'Detah', 'Gameti', \"Lutselk'e\", \"N'Dilo\", 'Nechalacho', 'Pine Point Mine (Tamerlane)', 'Trout Lake', 'Wekweeti', 'Whati']\n",
      "['Behchokǫ̀', 'Daring Lake Research Station', 'Dettah', 'Gamètì', 'Ndilǫ', 'Nechalacho/Thor Lake', 'Pine Point Mine', 'Sambaa K’e', 'Wekweètì', 'Whatì', 'Łutselkʼe']\n",
      "Old places: 47\n",
      "New places: 46\n",
      "rcp45\n",
      "['Behchoko (Edzo)', 'Behchoko (Rae)', 'Daring Lake Research Stn', 'Detah', 'Gameti', \"Lutselk'e\", \"N'Dilo\", 'Nechalacho', 'Pine Point Mine (Tamerlane)', 'Trout Lake', 'Wekweeti', 'Whati']\n",
      "['Behchokǫ̀', 'Daring Lake Research Station', 'Dettah', 'Gamètì', 'Ndilǫ', 'Nechalacho/Thor Lake', 'Pine Point Mine', 'Sambaa K’e', 'Wekweètì', 'Whatì', 'Łutselkʼe']\n",
      "Old places: 47\n",
      "New places: 46\n",
      "rcp60\n",
      "['Behchoko (Edzo)', 'Behchoko (Rae)', 'Daring Lake Research Stn', 'Detah', 'Gameti', \"Lutselk'e\", \"N'Dilo\", 'Nechalacho', 'Pine Point Mine (Tamerlane)', 'Trout Lake', 'Wekweeti', 'Whati']\n",
      "['Behchokǫ̀', 'Daring Lake Research Station', 'Dettah', 'Gamètì', 'Ndilǫ', 'Nechalacho/Thor Lake', 'Pine Point Mine', 'Sambaa K’e', 'Wekweètì', 'Whatì', 'Łutselkʼe']\n",
      "Old places: 47\n",
      "New places: 46\n",
      "rcp85\n",
      "['Behchoko (Edzo)', 'Behchoko (Rae)', 'Daring Lake Research Stn', 'Detah', 'Gameti', \"Lutselk'e\", \"N'Dilo\", 'Nechalacho', 'Pine Point Mine (Tamerlane)', 'Trout Lake', 'Wekweeti', 'Whati']\n",
      "['Behchokǫ̀', 'Daring Lake Research Station', 'Dettah', 'Gamètì', 'Ndilǫ', 'Nechalacho/Thor Lake', 'Pine Point Mine', 'Sambaa K’e', 'Wekweètì', 'Whatì', 'Łutselkʼe']\n",
      "Old places: 47\n",
      "New places: 46\n"
     ]
    }
   ],
   "source": [
    "\n",
    "for sc in scenarios:\n",
    "    print(sc)\n",
    "    old_places = di_csv['master'][sc]['place_names']\n",
    "    new_places = di_csv['fix-point-locations-and-names'][sc]['place_names']\n",
    "    old_locs_not_in_new = list(set(old_places) - set(new_places))\n",
    "    new_locs_not_in_old = list(set(new_places) - set(old_places))\n",
    "    print(sorted(old_locs_not_in_new))\n",
    "    print(sorted(new_locs_not_in_old))\n",
    "    print(\"Old places: %d\" % len(old_places))\n",
    "    print(\"New places: %d\" % len(new_places))\n",
    "\n"
   ]
  },
  {
   "cell_type": "code",
   "execution_count": 8,
   "id": "768bf1ab",
   "metadata": {},
   "outputs": [
    {
     "name": "stdout",
     "output_type": "stream",
     "text": [
      "historical\n",
      "Old CSV Shape: (49632, 8)\n",
      "New CSV Shape: (48576, 8)\n",
      "Old - New Shape Difference (Number Rows): 1056\n",
      "Shape Difference Accounted for by reduction of point locations by one: True\n",
      "rcp45\n",
      "Old CSV Shape: (75576, 8)\n",
      "New CSV Shape: (73968, 8)\n",
      "Old - New Shape Difference (Number Rows): 1608\n",
      "Shape Difference Accounted for by reduction of point locations by one: True\n",
      "rcp60\n",
      "Old CSV Shape: (41736, 8)\n",
      "New CSV Shape: (40848, 8)\n",
      "Old - New Shape Difference (Number Rows): 888\n",
      "Shape Difference Accounted for by reduction of point locations by one: True\n",
      "rcp85\n",
      "Old CSV Shape: (64296, 8)\n",
      "New CSV Shape: (62928, 8)\n",
      "Old - New Shape Difference (Number Rows): 1368\n",
      "Shape Difference Accounted for by reduction of point locations by one: True\n"
     ]
    }
   ],
   "source": [
    "# OK so we reduced the number of communities by one\n",
    "# so the shape of the newly extracted dataframes has changed\n",
    "# how many rows per community for each scenario?\n",
    "# That should be the difference in dataframe shapes\n",
    "for sc in scenarios:\n",
    "    print(sc)\n",
    "    old_shape = di_csv['master'][sc]['shape']\n",
    "    new_shape = di_csv['fix-point-locations-and-names'][sc]['shape']\n",
    "    row_delta = old_shape[0] - new_shape[0]\n",
    "    print(\"Old CSV Shape:\", old_shape)\n",
    "    print(\"New CSV Shape:\", new_shape)\n",
    "    print(\"Old - New Shape Difference (Number Rows):\", row_delta)\n",
    "    rows_per_location = di_csv['master'][sc]['csv'].query(\"community == 'Inuvik'\").shape[0]\n",
    "    print(\"Shape Difference Accounted for by reduction of point locations by one:\", row_delta == rows_per_location)\n"
   ]
  },
  {
   "cell_type": "markdown",
   "id": "8f9379e7",
   "metadata": {},
   "source": [
    "I am satisfied that the data is essentially intact between the two extractions. The same time ranges, models, and scenarios are all accounted for. Now I'll do a brief qualitative examination to look at a few changes in the actual data itself - and I will certainly look at Inuvik because it was known to be incorrect."
   ]
  },
  {
   "cell_type": "code",
   "execution_count": 19,
   "id": "e7c1f535",
   "metadata": {},
   "outputs": [
    {
     "data": {
      "text/plain": [
       "Text(0, 0.5, 'temp (RCP 8.5)')"
      ]
     },
     "execution_count": 19,
     "metadata": {},
     "output_type": "execute_result"
    },
    {
     "data": {
      "image/png": "[encoded data removed]",
      "text/plain": [
       "<Figure size 576x360 with 1 Axes>"
      ]
     },
     "metadata": {
      "needs_background": "light"
     },
     "output_type": "display_data"
    }
   ],
   "source": [
    "plt.figure(figsize=(8, 5))\n",
    "old_inuvik = di_csv['master']['rcp85']['csv'].query(\"model == '5ModelAvg' and community == 'Inuvik'\")\n",
    "new_inuvik = di_csv['fix-point-locations-and-names']['rcp85']['csv'].query(\"model == '5ModelAvg' and name == 'Inuvik'\")\n",
    "\n",
    "plt.plot(new_inuvik[['year', 'tas']].groupby('year').mean(), label='NEW')\n",
    "plt.plot(old_inuvik[['year', 'tas']].groupby('year').mean(), label='OLD')    \n",
    "plt.legend()\n",
    "plt.title('Inuvik')\n",
    "plt.xlabel('Year')\n",
    "plt.ylabel('temp (RCP 8.5)')"
   ]
  },
  {
   "cell_type": "code",
   "execution_count": 13,
   "id": "7aac2a8f",
   "metadata": {},
   "outputs": [
    {
     "data": {
      "text/plain": [
       "Text(0, 0.5, 'Precip')"
      ]
     },
     "execution_count": 13,
     "metadata": {},
     "output_type": "execute_result"
    },
    {
     "data": {
      "image/png": "[encoded data removed]",
      "text/plain": [
       "<Figure size 576x360 with 1 Axes>"
      ]
     },
     "metadata": {
      "needs_background": "light"
     },
     "output_type": "display_data"
    }
   ],
   "source": [
    "plt.figure(figsize=(8, 5))\n",
    "old_inuvik = di_csv['master']['rcp60']['csv'].query(\"model == '5ModelAvg' and community == 'Inuvik'\")\n",
    "new_inuvik = di_csv['fix-point-locations-and-names']['rcp60']['csv'].query(\"model == '5ModelAvg' and name == 'Inuvik'\")\n",
    "\n",
    "plt.plot(new_inuvik[['year', 'pr']].groupby('year').mean(), label='NEW')\n",
    "plt.plot(old_inuvik[['year', 'pr']].groupby('year').mean(), label='OLD')    \n",
    "plt.legend()\n",
    "plt.title('Inuvik')\n",
    "plt.xlabel('Year')\n",
    "plt.ylabel('Precip')"
   ]
  },
  {
   "cell_type": "code",
   "execution_count": 14,
   "id": "c1fe8ca6",
   "metadata": {},
   "outputs": [
    {
     "data": {
      "text/plain": [
       "Text(0, 0.5, 'temp')"
      ]
     },
     "execution_count": 14,
     "metadata": {},
     "output_type": "execute_result"
    },
    {
     "data": {
      "image/png": "[encoded data removed]",
      "text/plain": [
       "<Figure size 576x360 with 1 Axes>"
      ]
     },
     "metadata": {
      "needs_background": "light"
     },
     "output_type": "display_data"
    }
   ],
   "source": [
    "plt.figure(figsize=(8, 5))\n",
    "old_inuvik = di_csv['master']['rcp60']['csv'].query(\"model == '5ModelAvg' and community == 'Behchoko (Edzo)'\")\n",
    "new_inuvik = di_csv['fix-point-locations-and-names']['rcp60']['csv'].query(\"model == '5ModelAvg' and name == 'Behchokǫ̀'\")\n",
    "\n",
    "plt.plot(new_inuvik[['year', 'tas']].groupby('year').mean(), label='NEW')\n",
    "plt.plot(old_inuvik[['year', 'tas']].groupby('year').mean(), label='OLD')    \n",
    "plt.legend()\n",
    "plt.title('Behchokǫ̀')\n",
    "plt.xlabel('Year')\n",
    "plt.ylabel('temp')"
   ]
  },
  {
   "cell_type": "code",
   "execution_count": 15,
   "id": "3dd06011",
   "metadata": {},
   "outputs": [
    {
     "data": {
      "text/plain": [
       "Text(0, 0.5, 'temp')"
      ]
     },
     "execution_count": 15,
     "metadata": {},
     "output_type": "execute_result"
    },
    {
     "data": {
      "image/png": "[encoded data removed]",
      "text/plain": [
       "<Figure size 576x360 with 1 Axes>"
      ]
     },
     "metadata": {
      "needs_background": "light"
     },
     "output_type": "display_data"
    }
   ],
   "source": [
    "plt.figure(figsize=(8, 5))\n",
    "old_inuvik = di_csv['master']['rcp60']['csv'].query(\"model == '5ModelAvg' and community == 'Behchoko (Edzo)'\")\n",
    "new_inuvik = di_csv['fix-point-locations-and-names']['rcp60']['csv'].query(\"model == '5ModelAvg' and name == 'Behchokǫ̀'\")\n",
    "\n",
    "plt.plot(new_inuvik[['year', 'pr']].groupby('year').mean(), label='NEW')\n",
    "plt.plot(old_inuvik[['year', 'pr']].groupby('year').mean(), label='OLD')    \n",
    "plt.legend()\n",
    "plt.title('Behchokǫ̀')\n",
    "plt.xlabel('Year')\n",
    "plt.ylabel('temp')"
   ]
  },
  {
   "cell_type": "code",
   "execution_count": null,
   "id": "876ef937",
   "metadata": {},
   "outputs": [],
   "source": []
  }
 ],
 "metadata": {
  "kernelspec": {
   "display_name": "Python 3",
   "language": "python",
   "name": "python3"
  },
  "language_info": {
   "codemirror_mode": {
    "name": "ipython",
    "version": 3
   },
   "file_extension": ".py",
   "mimetype": "text/x-python",
   "name": "python",
   "nbconvert_exporter": "python",
   "pygments_lexer": "ipython3",
   "version": "3.6.13"
  }
 },
 "nbformat": 4,
 "nbformat_minor": 5
}
